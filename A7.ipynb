{
 "cells": [
  {
   "cell_type": "markdown",
   "id": "b127cabd-8f22-4a9d-a600-5a93549f8853",
   "metadata": {},
   "source": [
    "# A7: Final Project Report"
   ]
  },
  {
   "cell_type": "markdown",
   "id": "7c88b6ea-380b-41af-90ba-9b63abdc3142",
   "metadata": {
    "tags": []
   },
   "source": [
    "# Introduction"
   ]
  },
  {
   "cell_type": "markdown",
   "id": "73d4c3d5-726e-48bb-a1b8-77267c093e1a",
   "metadata": {},
   "source": [
    "This analysis aims to explore the relationship between a country's Gross Domestic Product (GDP) per capita and the prevalence of undernourishment using data from the FAOSTAT dataset. The research questions focus on understanding the factors contributing to differences in caloric intake and their implications for global health and well-being. By examining the relationship between GDP per capita and undernourishment prevalence, this study seeks to provide insights into the complexities of global food systems and inform policy decisions aimed at improving nutrition and reducing food insecurity.\n",
    "\n",
    "The analysis utilizes statistical methods and visualizations to investigate the research questions. Hypotheses are formulated to explore the presence of a correlation between GDP per capita and undernourishment prevalence, as well as variations in undernourishment prevalence across countries. While expecting a general trend of lower undernourishment in countries with higher GDP per capita, the study acknowledges the potential influence of other factors, such as agricultural practices and resource allocation, which may affect the accuracy of this correlation.\n",
    "\n",
    "The findings of this analysis have implications for scientific understanding, policy development, and human well-being. By uncovering the relationships between GDP per capita, undernourishment prevalence, and caloric intake differences, this study contributes to the broader understanding of global food systems and aids in identifying strategies for promoting healthier and more sustainable diets. Ultimately, the goal is to improve global nutrition outcomes and enhance the overall health and well-being of populations worldwide."
   ]
  },
  {
   "cell_type": "markdown",
   "id": "71bd609c-4b96-416f-b99a-d5c01346443a",
   "metadata": {
    "tags": []
   },
   "source": [
    "# Background\n"
   ]
  },
  {
   "cell_type": "markdown",
   "id": "1ff82f7d-65a5-45d3-8778-5c8a23fa5f99",
   "metadata": {},
   "source": [
    "I have decided to use the FAOSTAT dataset to investigate the factors that contribute to the differences in caloric intake between countries. FAOSTAT is a publicly available database that contains a wide range of information on food and agriculture from countries around the world. I believe this dataset is an excellent choice for my research because it contains data on food availability, agricultural productivity, and nutrition, which are all key factors that can contribute to differences in caloric intake between countries.\n",
    "\n",
    "The dataset is represented in various forms, including tables, graphs, and charts. It contains information on food production and consumption, as well as agricultural trade, land use, and population demographics. There are also data on the prevalence of malnutrition and obesity, which can provide insights into the nutritional status of different countries.\n",
    "\n",
    "The FAOSTAT dataset is made available under an open license, which allows for its use and redistribution under certain conditions. Specifically, the data is licensed under the Creative Commons Attribution-NonCommercial-ShareAlike 3.0 IGO license (https://creativecommons.org/licenses/by-nc-sa/3.0/igo/), which permits the use and sharing of the data for non-commercial purposes as long as attribution is given to the original source, and any modifications or derivatives of the data are released under the same license.\n",
    "\n",
    "This means that as a user of the FAOSTAT data, I am free to download, use, and modify the data for personal or academic purposes, as well as share my findings with others on platforms such as GitHub, as long as it is not for commercial purposes. I must also provide attribution to the original source of the data and release any modified or derived data under the same license.\n",
    "\n",
    "More information can be found in the link here: https://www.fao.org/contact-us/terms/en/.\n",
    "\n",
    "Using this dataset, I hope to gain a deeper understanding of the factors that contribute to differences in caloric intake between countries. By analyzing the data, I aim to identify patterns and trends in food availability, economic development, cultural and social norms, demographics, and health and nutrition policies that may help to explain these differences.\n",
    "\n",
    "One possible ethical consideration when using this dataset is the potential for biases or inaccuracies in the data. It is important to carefully consider the source of the data and to acknowledge any limitations or uncertainties in the analysis. Additionally, it is important to ensure that the research is conducted in an ethical and responsible manner, respecting the privacy and confidentiality of any individuals or communities represented in the data."
   ]
  },
  {
   "cell_type": "markdown",
   "id": "33bb313d-4093-49c1-a872-9c2e0c9387c2",
   "metadata": {},
   "source": [
    "## (Related Work)"
   ]
  },
  {
   "cell_type": "markdown",
   "id": "ab4bd4e7-8eec-4065-802f-423f1b195b1c",
   "metadata": {},
   "source": [
    "The phenomenon that I am investigating is the differences in caloric intake between countries. I plan to use the FAOSTAT dataset, which is a publicly available database that contains information on food and agriculture from countries around the world, to identify patterns and trends in food availability, economic development, cultural and social norms, demographics, and health and nutrition policies that may help explain these differences.\n",
    "\n",
    "Previous research has been performed on this phenomenon, including studies that have examined the relationship between food availability, economic development, and caloric intake. For example, a study by Shetty et al. (2005) found that the level of economic development was positively associated with caloric intake (https://www.ncbi.nlm.nih.gov/pmc/articles/PMC4209007/). Another study by Popkin et al. (2012) found that the availability of ultra-processed foods was negatively associated with the intake of healthier foods and nutrients.\n",
    "\n",
    "The background information of the project suggests that this analysis has the potential to shed light on the underlying factors that drive differences in caloric intake between countries, and help us to better understand the complexities of global food systems. This analysis could also inform policy decisions aimed at improving global nutrition and reducing food insecurity. The FAOSTAT dataset is an excellent choice for this research because it contains data on food availability, agricultural productivity, and nutrition.\n",
    "\n",
    "One potential ethical consideration when using this dataset is the potential for biases or inaccuracies in the data. It is important to carefully consider the source of the data and to acknowledge any limitations or uncertainties in the analysis. Additionally, it is important to ensure that the research is conducted in an ethical and responsible manner, respecting the privacy and confidentiality of any individuals or communities represented in the data."
   ]
  },
  {
   "cell_type": "markdown",
   "id": "88ccf4c1-454f-4a25-abbb-2a36d80720ab",
   "metadata": {},
   "source": [
    "# Research questions"
   ]
  },
  {
   "cell_type": "markdown",
   "id": "dacf7921-baec-46dc-b366-20a3f68a4397",
   "metadata": {},
   "source": [
    "1. Is there a relationship between a country's Gross Domestic Product (GDP) per capita and the prevalence of undernourishment?\n",
    "2. How does the prevalence of undernourishment vary across different countries?\n",
    "3. Do countries with higher GDP per capita tend to have lower prevalence of undernourishment?\n",
    "\n",
    "Research Question 1:\n",
    "The first research question aims to investigate whether there is a relationship between a country's Gross Domestic Product (GDP) per capita and the prevalence of undernourishment. It explores the potential impact of a country's economic prosperity on its food security situation. By analyzing the merged dataset that combines information on GDP per capita and the prevalence of undernourishment for various countries, we can gain insights into whether higher GDP per capita correlates with lower levels of undernourishment. This research question is important as it can provide valuable information to policymakers, researchers, and organizations working towards eradicating hunger and promoting sustainable development.\n",
    "\n",
    "Research Question 2:\n",
    "The second research question focuses on understanding the variations in the prevalence of undernourishment across different countries. It seeks to identify and compare the levels of undernourishment in various geographical regions and countries. By examining the data and visualizations, we can gain insights into the disparities in food security and identify countries that face significant challenges in addressing undernourishment. This research question is valuable for assessing the global food security landscape, understanding regional disparities, and directing targeted interventions and resources to areas with higher prevalence rates.\n",
    "\n",
    "Research Question 3:\n",
    "The third research question explores whether countries with higher GDP per capita tend to have lower prevalence of undernourishment. It aims to investigate the potential correlation between economic prosperity and food security. By analyzing the relationship between GDP per capita and the prevalence of undernourishment, we can determine if countries with higher economic resources have been successful in reducing undernourishment rates. This research question is important for policymakers and organizations seeking to prioritize economic growth as a means to improve food security. The findings can guide evidence-based policy decisions, identify successful strategies, and inform international efforts to promote sustainable development and eradicate undernourishment."
   ]
  },
  {
   "cell_type": "markdown",
   "id": "e063998a-3c7e-4faf-b8f1-33b7db053515",
   "metadata": {},
   "source": [
    "##  Hypotheses"
   ]
  },
  {
   "cell_type": "markdown",
   "id": "0fa33331-371d-47b2-8ae0-c0f685b9a330",
   "metadata": {},
   "source": [
    "Hypothesis for Research Question 1:\n",
    "I believe that there is a likely correlation between a country's GDP per capita and the prevalence of undernourishment. Based on my understanding as a college student, countries with higher GDP per capita generally have more resources and better economic conditions, which may enable them to invest in agriculture, infrastructure, and social welfare programs. These factors could contribute to improved food security and a lower prevalence of undernourishment. Therefore, I expect that countries with higher GDP per capita will exhibit lower levels of undernourishment.\n",
    "\n",
    "However, it is important to acknowledge that the correlation might not always be accurate for every country. There may be outliers where the prevalence of undernourishment deviates from the expected trend. Factors such as agricultural productivity, distribution of wealth, political stability, and access to resources can vary significantly among countries. In some cases, a country's GDP might be heavily influenced by sectors other than agriculture, leading to a discrepancy between GDP per capita and the prevalence of undernourishment. These exceptions could impact the overall correlation and introduce variations in the relationship between GDP per capita and undernourishment prevalence.\n",
    "\n",
    "Hypothesis for Research Question 2:\n",
    "I hypothesize that the prevalence of undernourishment will vary across different countries. This variation can be influenced by several factors, including geographical location, climate, cultural practices, agricultural policies, and socio-economic conditions. Countries facing challenges such as poverty, political instability, and limited access to resources may exhibit higher levels of undernourishment. In contrast, countries with stronger economies, effective governance, and investment in agricultural development and social welfare programs may have lower prevalence rates of undernourishment. Therefore, I anticipate observing significant differences in the prevalence of undernourishment when examining the data across various countries.\n",
    "\n",
    "Hypothesis for Research Question 3:\n",
    "I expect to find a correlation between a country's GDP per capita and the prevalence of undernourishment. It is reasonable to assume that countries with higher GDP per capita will allocate more resources to address food security concerns, implement policies to improve agricultural productivity, and provide better social safety nets. As a result, these countries are likely to experience a lower prevalence of undernourishment. However, it is important to note that the correlation might not be perfect for every country. Factors such as economic inequality, the dominance of other sectors in the economy, or regional disparities can create outliers where a country's GDP per capita does not accurately reflect its efforts to combat undernourishment. These exceptions may impact the strength and consistency of the correlation between GDP per capita and the prevalence of undernourishment."
   ]
  },
  {
   "cell_type": "markdown",
   "id": "cd4ffceb-b42c-494b-a5da-450c6999b528",
   "metadata": {},
   "source": [
    "# Methodology"
   ]
  },
  {
   "cell_type": "markdown",
   "id": "8a11500d-3295-4372-96c3-fa4733df3425",
   "metadata": {},
   "source": [
    "## Part 1: Loading and Cleaning the FAOSTAT Data"
   ]
  },
  {
   "cell_type": "markdown",
   "id": "6b33fb89-c7ee-49c6-9483-1f2df21730c3",
   "metadata": {},
   "source": [
    "In the initial phase of this project, we start on the crucial task of loading and cleaning the FAOSTAT data, a fundamental process known as \"data wrangling.\" This step serves as a pivotal foundation for any quantitative research endeavor, although it may occasionally prove laborious. Through this phase, we aim to ensure that the dataset is well-prepared for analysis by performing thorough checks to comprehend the data's meaning and familiarize ourselves with any inherent limitations. This comprehensive data preparation process sets the stage for subsequent rigorous analysis and interpretation."
   ]
  },
  {
   "cell_type": "markdown",
   "id": "efe00f41-9095-4c3f-a7db-7b89694ccf6e",
   "metadata": {},
   "source": [
    "### 1.1: Load the Data into Notebook"
   ]
  },
  {
   "cell_type": "markdown",
   "id": "9a521903-54c4-4e7c-af7a-b747c788b877",
   "metadata": {},
   "source": [
    "To proceed with the data analysis, we need to import two essential files for our project:\n",
    "\n",
    "* \"FAOSTAT_Undernourished\" (Data Source = https://www.fao.org/faostat/en/#data/FS)\n",
    "* \"FAOSTAT_Macro_Indicators\" (Data Source = https://www.fao.org/faostat/en/#data/MK)\n",
    "\n",
    "These files contain critical information necessary for our research objectives. Similar to the previously mentioned Wikipedia Talk Corpus data (https://convokit.cornell.edu/documentation/wiki.html), we will employ a data loading approach to retrieve and organize the data into a format conducive to analysis.\n",
    "\n",
    "To load and structure the data, we will utilize the Python programming language and the built-in csv module. The function below demonstrates the process of loading a comma-separated value (.csv) file and transforming it into a list of dictionaries, ensuring easy manipulation and verification:"
   ]
  },
  {
   "cell_type": "code",
   "execution_count": 38,
   "id": "6c877c85-49f7-4c78-9138-bbff26c6fd77",
   "metadata": {},
   "outputs": [],
   "source": [
    "import csv\n",
    "\n",
    "def prepare_datasets(file_path):\n",
    "    \"\"\" \n",
    "    Accepts: path to a CSV file\n",
    "    Returns: a list containing a dictionary for every row in the file, \n",
    "        with the file column headers as keys\n",
    "    \"\"\"\n",
    "    \n",
    "    with open(file_path) as infile:\n",
    "        reader = csv.DictReader(infile)\n",
    "        list_of_dicts = [dict(r) for r in reader]\n",
    "        \n",
    "    return list_of_dicts"
   ]
  },
  {
   "cell_type": "markdown",
   "id": "174f1b41-9c05-4224-9ea8-db529d131a64",
   "metadata": {},
   "source": [
    "By executing this function, we can load and organize the data from the \"FAOSTAT_Undernourished.csv\" and \"FAOSTAT_Macro_Indicators.csv\" files into a list of dictionaries, which will facilitate further analysis."
   ]
  },
  {
   "cell_type": "markdown",
   "id": "1b704fb4-3daf-448a-9272-84cdf7d3871d",
   "metadata": {},
   "source": [
    "### 1.2 Testing by Printing"
   ]
  },
  {
   "cell_type": "markdown",
   "id": "307eb67a-aa97-4056-a191-879bee794ef4",
   "metadata": {},
   "source": [
    "In this section, we employ a method to test the data loading process by printing the first 5 lines of the selected datasets: \"FAOSTAT_Undernourished.csv\" and \"FAOSTAT_Macro_Indicators.csv\". This approach serves multiple purposes in our analysis workflow.\n",
    "\n",
    "Firstly, by examining the initial lines of the datasets, we gain a visual representation of the data's structure, ensuring that the files are loaded correctly. This step allows us to verify that the data is in a format that aligns with our expectations, such as the presence of appropriate headers and consistent data organization.\n",
    "\n",
    "Secondly, printing the initial rows aids in detecting any potential data anomalies or inconsistencies early on. By inspecting a small subset of the data, we can identify issues such as missing values, formatting discrepancies, or unexpected patterns that may require further investigation and cleaning.\n",
    "\n",
    "Additionally, viewing the initial lines helps to familiarize ourselves with the data and understand the variables present in each dataset. This knowledge is crucial for subsequent data manipulation, analysis, and interpretation.\n",
    "\n",
    "By testing the data loading process through the printing of the first 5 lines, we establish a solid foundation for data exploration, ensuring that the datasets are correctly loaded and providing an initial understanding of their content and structure."
   ]
  },
  {
   "cell_type": "code",
   "execution_count": 39,
   "id": "a306876e-2cb2-47b6-954a-3b6d65b09ff8",
   "metadata": {},
   "outputs": [
    {
     "name": "stdout",
     "output_type": "stream",
     "text": [
      "First 5 lines of FAOSTAT_Undernourished.csv:\n",
      "['FS', 'Suite of Food Security Indicators', '032', 'Argentina', '6121', 'Value', '210041', 'Prevalence of undernourishment (percent) (3-year average)', '20192021', '2019-2021', '%', '3.7', 'E', 'Estimated value', '']\n",
      "['FS', 'Suite of Food Security Indicators', '084', 'Belize', '6121', 'Value', '210041', 'Prevalence of undernourishment (percent) (3-year average)', '20192021', '2019-2021', '%', '7.4', 'E', 'Estimated value', '']\n",
      "['FS', 'Suite of Food Security Indicators', '060', 'Bermuda', '6121', 'Value', '210041', 'Prevalence of undernourishment (percent) (3-year average)', '20192021', '2019-2021', '%', '', 'O', 'Missing value', '']\n",
      "['FS', 'Suite of Food Security Indicators', '068', 'Bolivia (Plurinational State of)', '6121', 'Value', '210041', 'Prevalence of undernourishment (percent) (3-year average)', '20192021', '2019-2021', '%', '13.9', 'E', 'Estimated value', '']\n",
      "['FS', 'Suite of Food Security Indicators', '076', 'Brazil', '6121', 'Value', '210041', 'Prevalence of undernourishment (percent) (3-year average)', '20192021', '2019-2021', '%', '4.1', 'E', 'Estimated value', '']\n",
      "\n",
      "First 5 lines of FAOSTAT_Macro_Indicators.csv:\n",
      "['MK', 'Macro Indicators', '660', 'Anguilla', '6185', 'Value US$ per capita, 2015 prices', '22008', 'Gross Domestic Product', '2020', '2020', 'US$', '15518.302406', 'X', 'Figure from international organizations', '']\n",
      "['MK', 'Macro Indicators', '028', 'Antigua and Barbuda', '6185', 'Value US$ per capita, 2015 prices', '22008', 'Gross Domestic Product', '2020', '2020', 'US$', '14041.086592', 'X', 'Figure from international organizations', '']\n",
      "['MK', 'Macro Indicators', '032', 'Argentina', '6185', 'Value US$ per capita, 2015 prices', '22008', 'Gross Domestic Product', '2020', '2020', 'US$', '12390.693756', 'X', 'Figure from international organizations', '']\n",
      "['MK', 'Macro Indicators', '533', 'Aruba', '6185', 'Value US$ per capita, 2015 prices', '22008', 'Gross Domestic Product', '2020', '2020', 'US$', '25819.395806', 'X', 'Figure from international organizations', '']\n",
      "['MK', 'Macro Indicators', '044', 'Bahamas', '6185', 'Value US$ per capita, 2015 prices', '22008', 'Gross Domestic Product', '2020', '2020', 'US$', '23566.685331', 'X', 'Figure from international organizations', '']\n"
     ]
    }
   ],
   "source": [
    "import csv\n",
    "\n",
    "def print_first_5_lines(file_path):\n",
    "    \"\"\" \n",
    "    Accepts: path to a CSV file\n",
    "    Prints the first 5 lines of the file\n",
    "    \"\"\"\n",
    "    \n",
    "    with open(file_path) as infile:\n",
    "        reader = csv.reader(infile)\n",
    "        header = next(reader)  # Skip the header row\n",
    "        for i, row in enumerate(reader):\n",
    "            if i < 5:\n",
    "                print(row)\n",
    "            else:\n",
    "                break\n",
    "\n",
    "# Example usage\n",
    "print(\"First 5 lines of FAOSTAT_Undernourished.csv:\")\n",
    "print_first_5_lines(\"FAOSTAT_Undernourished.csv\")\n",
    "\n",
    "print()\n",
    "\n",
    "print(\"First 5 lines of FAOSTAT_Macro_Indicators.csv:\")\n",
    "print_first_5_lines(\"FAOSTAT_Macro_Indicators.csv\")\n"
   ]
  },
  {
   "cell_type": "markdown",
   "id": "723cd360-114e-44ec-8014-184931e7c45a",
   "metadata": {},
   "source": [
    "### 1.3 Identifying Null Data and Filtering"
   ]
  },
  {
   "cell_type": "markdown",
   "id": "868ffda3-4646-4395-9aa3-efad6bf4f446",
   "metadata": {},
   "source": [
    "In this section, we focus on identifying null data and filtering it from the two datasets, namely \"FAOSTAT_Undernourished\" and \"FAOSTAT_Macro_Indicators\". Null values can hinder accurate analysis and may introduce inconsistencies in our results. Therefore, it is essential to handle them appropriately.\n",
    "\n",
    "To begin, we utilize the pandas library in Python to load the datasets as dataframes. We then examine the shape of each dataframe to understand the initial dimensions and gain an overview of the data.\n",
    "\n",
    "Next, we identify the presence of null values within each dataset using the isnull().sum() function. This function allows us to determine the number of null values present in each column. By doing so, we gain insights into the extent of missing data and understand which columns require further handling.\n",
    "\n",
    "To proceed with our analysis, we focus on the \"area\" column as a criterion for filtering. The \"area\" column contains information related to a specific geographic area. By filtering out rows with null values in this column, we ensure that we are working with complete and meaningful data.\n",
    "\n",
    "We use the dropna() function from pandas to remove rows with null values in the \"area\" column. This function creates a new dataframe, df_und_filtered and df_macro_filtered, respectively, containing only the rows that have non-null values in the \"area\" column.\n",
    "\n",
    "To verify the impact of filtering, we print the shape of each filtered dataframe, demonstrating the reduction in dimensions after removing rows with null values. Additionally, to ensure reproducibility and accessibility, we save the filtered dataframes into separate CSV files, namely \"FAOSTAT_Undernourished_filtered.csv\" and \"FAOSTAT_Macro_Indicators_filtered.csv\".\n",
    "\n",
    "Executing this code allows us to identify and handle null data effectively, ensuring that subsequent analysis is performed on reliable and complete datasets."
   ]
  },
  {
   "cell_type": "code",
   "execution_count": 40,
   "id": "952f63ca-dfcc-4790-8695-1069307cd637",
   "metadata": {},
   "outputs": [
    {
     "name": "stdout",
     "output_type": "stream",
     "text": [
      "Shape of FAOSTAT_Undernourished dataset: (24, 15)\n",
      "Null values in FAOSTAT_Undernourished dataset:\n",
      "Domain Code          0\n",
      "Domain               0\n",
      "Area Code (M49)      0\n",
      "Area                 0\n",
      "Element Code         0\n",
      "Element              0\n",
      "Item Code            0\n",
      "Item                 0\n",
      "Year Code            0\n",
      "Year                 0\n",
      "Unit                 0\n",
      "Value                2\n",
      "Flag                 0\n",
      "Flag Description     0\n",
      "Note                24\n",
      "dtype: int64\n",
      "Shape of FAOSTAT_Undernourished dataset (after filtering): (22, 15)\n"
     ]
    }
   ],
   "source": [
    "import pandas as pd\n",
    "\n",
    "# Load FAOSTAT_Undernourished.csv\n",
    "df_und = pd.read_csv(\"FAOSTAT_Undernourished.csv\")\n",
    "\n",
    "# Print the shape of the DataFrame\n",
    "print(\"Shape of FAOSTAT_Undernourished dataset:\", df_und.shape)\n",
    "\n",
    "# Identify null values\n",
    "null_values_und = df_und.isnull().sum()\n",
    "print(\"Null values in FAOSTAT_Undernourished dataset:\")\n",
    "print(null_values_und)\n",
    "\n",
    "# Filter out rows with null values in the 'Value' column\n",
    "df_und_filtered = df_und.dropna(subset=['Value'])\n",
    "\n",
    "# Print the shape of the filtered DataFrame\n",
    "print(\"Shape of FAOSTAT_Undernourished dataset (after filtering):\", df_und_filtered.shape)\n",
    "\n",
    "# Save the filtered DataFrame to a new CSV file\n",
    "df_und_filtered.to_csv(\"FAOSTAT_Undernourished_filtered.csv\", index=False)"
   ]
  },
  {
   "cell_type": "markdown",
   "id": "37bc2253-14c6-4399-bb33-cd29209a3218",
   "metadata": {},
   "source": [
    "Now we do the same for the Macro Indicators Dataset."
   ]
  },
  {
   "cell_type": "code",
   "execution_count": 41,
   "id": "38cbc7bf-8e39-4ed3-b819-8b125a8560cd",
   "metadata": {},
   "outputs": [
    {
     "name": "stdout",
     "output_type": "stream",
     "text": [
      "Shape of FAOSTAT_Macro_Indicators dataset: (46, 15)\n",
      "Null values in FAOSTAT_Macro_Indicators dataset:\n",
      "Domain Code          0\n",
      "Domain               0\n",
      "Area Code (M49)      0\n",
      "Area                 0\n",
      "Element Code         0\n",
      "Element              0\n",
      "Item Code            0\n",
      "Item                 0\n",
      "Year Code            0\n",
      "Year                 0\n",
      "Unit                 0\n",
      "Value                0\n",
      "Flag                 0\n",
      "Flag Description     0\n",
      "Note                46\n",
      "dtype: int64\n",
      "Shape of FAOSTAT_Macro_Indicators dataset (after filtering): (46, 15)\n"
     ]
    }
   ],
   "source": [
    "import pandas as pd\n",
    "\n",
    "# Load FAOSTAT_Macro_Indicators.csv\n",
    "df_macro = pd.read_csv(\"FAOSTAT_Macro_Indicators.csv\")\n",
    "\n",
    "# Print the shape of the DataFrame\n",
    "print(\"Shape of FAOSTAT_Macro_Indicators dataset:\", df_macro.shape)\n",
    "\n",
    "# Identify null values\n",
    "null_values_macro = df_macro.isnull().sum()\n",
    "print(\"Null values in FAOSTAT_Macro_Indicators dataset:\")\n",
    "print(null_values_macro)\n",
    "\n",
    "# Filter out rows with null values in the 'Area' and 'Value' columns\n",
    "df_macro_filtered = df_macro.dropna(subset=['Area', 'Value'])\n",
    "\n",
    "# Print the shape of the filtered DataFrame\n",
    "print(\"Shape of FAOSTAT_Macro_Indicators dataset (after filtering):\", df_macro_filtered.shape)\n",
    "\n",
    "# Save the filtered DataFrame to a new CSV file\n",
    "df_macro_filtered.to_csv(\"FAOSTAT_Macro_Indicators_filtered.csv\", index=False)"
   ]
  },
  {
   "cell_type": "markdown",
   "id": "cd07f56c-656b-4d5e-ac0e-c1fab8dcff17",
   "metadata": {},
   "source": [
    "By executing the code provided above, we can confidently proceed with our analysis, knowing that we have addressed the issue of null data in the datasets."
   ]
  },
  {
   "cell_type": "markdown",
   "id": "93f1e6b3-e391-4cf3-9f49-211a6c29af85",
   "metadata": {},
   "source": [
    "### 1.4 Understanding what the Properties of your Data Mean (Source = https://www.fao.org/faostat/en/#definitions)"
   ]
  },
  {
   "cell_type": "markdown",
   "id": "15b305db-9f10-4eb4-b910-8f821ff4dbe1",
   "metadata": {},
   "source": [
    "The malnourished dataset contains information about the prevalence of undernourishment (percent) for various countries. Here is an explanation of each column and its properties:\n",
    "\n",
    "1. Domain Code: This column represents the code for the domain of the data, which in this case is \"FS\" (Suite of Food Security Indicators).\n",
    "2. Domain: This column specifies the domain of the data, which is \"Suite of Food Security Indicators.\"\n",
    "3. Area Code (M49): This column contains the numeric code for the country or area represented in the dataset. The code follows the M49 standard, which is a United Nations system for country classification.\n",
    "4. Area: This column provides the name of the country or area.\n",
    "5. Element Code: This column represents the code for the specific element or indicator being measured in the dataset. In this case, the code is \"Value,\" indicating the actual value of the prevalence of undernourishment.\n",
    "6. Element: This column describes the element or indicator being measured. It is \"Prevalence of undernourishment (percent) (3-year average)\" in this dataset.\n",
    "7. Item Code: This column contains the code for the specific item or category being measured. The code \"210041\" corresponds to the prevalence of undernourishment.\n",
    "8. Item: This column describes the specific item or category being measured, which is the prevalence of undernourishment (percent) in this dataset.\n",
    "9. Year Code: This column represents the code for the year or time period to which the data pertains. The code \"20192021\" indicates that the data represents a 3-year average for the period 2019-2021.\n",
    "10. Year: This column specifies the year or time period to which the data pertains. In this case, it is \"2019-2021.\"\n",
    "11. Unit: This column indicates the unit of measurement for the data values. In this dataset, the unit is \"%\", representing a percentage.\n",
    "12. Value: This column contains the actual value of the prevalence of undernourishment for each country.\n",
    "13. Flag: This column represents a flag or symbol associated with the data value. It provides additional information or context about the value.\n",
    "14. Flag Description: This column describes the meaning of the flag or symbol associated with the data value. For example, \"E\" indicates an estimated value, and \"O\" indicates a missing value.\n",
    "15. Note: This column may contain additional notes or comments related to the data.\n",
    "\n",
    "Each row in the dataset represents a country or area and provides information about the prevalence of undernourishment for that specific country or area during the specified time period."
   ]
  },
  {
   "cell_type": "markdown",
   "id": "51edb7e0-f7ad-4495-970d-0c6fa746b020",
   "metadata": {},
   "source": [
    "The macro indicators dataset contains information about various macroeconomic indicators for different countries. Here is an explanation of each column and its properties:\n",
    "\n",
    "1. Domain Code: Code representing the domain of the data (in this case, \"MK\" represents Macro Indicators).\n",
    "2. Domain: Domain of the data (in this case, \"Macro Indicators\").\n",
    "3. Area Code (M49): Code representing the geographical area of the country (M49 is a standard for country codes).\n",
    "4. Area: Name of the country or area.\n",
    "5. Element Code: Code representing the economic element being measured.\n",
    "6. Element: Economic element being measured (in this case, \"Gross Domestic Product\").\n",
    "7. Item Code: Code representing the specific item or variable being measured.\n",
    "8. Item: Specific item or variable being measured (in this case, \"Value US per capita, 2015 prices\" and \"Annual growth US per capita, 2015 prices\").\n",
    "9. Year Code: Code representing the year of the data.\n",
    "10. Year: Year of the data.\n",
    "11. Unit: Unit of measurement for the value (in this case, \"US\").\n",
    "12. Value: Actual value of the macroeconomic indicator.\n",
    "13. Flag: Flag indicating the quality or nature of the data.\n",
    "14. Flag Description: Description of the flag.\n",
    "15. Note: Additional note or information related to the data.\n",
    "\n",
    "Each row in the dataset represents a specific macroeconomic indicator for a country in a particular year. The dataset provides information about the GDP per capita value and its annual growth rate for the year 2020. The values are expressed in US dollars (2015 prices). The flags and flag descriptions provide information about the data quality or sources. The \"Note\" column may contain additional information or clarifications about the data."
   ]
  },
  {
   "cell_type": "markdown",
   "id": "80a46b61-26f0-4f97-8414-1ba92a7a2766",
   "metadata": {},
   "source": [
    "### 1.5 Merging Datasets"
   ]
  },
  {
   "cell_type": "markdown",
   "id": "d7998bbe-7ca7-424c-9a60-e1c4ac6a3fba",
   "metadata": {},
   "source": [
    "In this code, we are merging the \"Malnourished\" dataset and the \"Macro Indicators\" dataset based on the common \"Area\" column. The purpose of merging these datasets is to facilitate regression and correlation analysis, allowing us to investigate potential relationships between the prevalence of undernourishment and macroeconomic indicators.\n",
    "\n",
    "The merging process brings together the information from both datasets into a single dataset called \"FAOSTAT_Merged.csv\". This merged dataset includes three key columns: \"Area\", \"Prevalence of undernourishment\", and \"GDP per capita\". By combining these datasets, we can examine how changes in GDP per capita relate to the prevalence of undernourishment across different countries.\n",
    "\n",
    "The merged dataset enables us to perform regression analysis to model and predict the prevalence of undernourishment based on the GDP per capita values. Regression analysis allows us to understand the strength and direction of the relationship between these variables, providing insights into how economic factors may impact undernourishment rates.\n",
    "\n",
    "Additionally, the merged dataset facilitates correlation analysis, which helps us measure the statistical association between the prevalence of undernourishment and GDP per capita. By calculating correlation coefficients, we can quantify the degree of linear relationship between these variables and determine if they tend to move together or in opposite directions.\n",
    "\n",
    "By merging and analyzing these datasets, we aim to gain a better understanding of the potential connection between macroeconomic indicators and undernourishment. This analysis can inform policymakers, researchers, and organizations working in food security and economic development, enabling evidence-based decision-making to address issues related to malnourishment and poverty.\n",
    "\n",
    "The final merged dataset, \"FAOSTAT_Merged.csv\", serves as a valuable resource for conducting regression and correlation tests, providing a foundation for further exploratory data analysis and statistical modeling."
   ]
  },
  {
   "cell_type": "code",
   "execution_count": 46,
   "id": "a5e54b33-21c9-4a7a-8c65-d9dd83f44732",
   "metadata": {},
   "outputs": [
    {
     "name": "stdout",
     "output_type": "stream",
     "text": [
      "Merged dataset saved successfully.\n"
     ]
    }
   ],
   "source": [
    "import pandas as pd\n",
    "\n",
    "# Read the malnourished dataset\n",
    "malnourished_df = pd.read_csv(\"FAOSTAT_Undernourished_filtered.csv\")\n",
    "\n",
    "# Read the macro indicators dataset\n",
    "macro_indicators_df = pd.read_csv(\"FAOSTAT_Macro_Indicators_filtered.csv\")\n",
    "\n",
    "# Merge the datasets based on the \"Area\" column\n",
    "merged_df = pd.merge(malnourished_df, macro_indicators_df[['Area', 'Value']], on=\"Area\", how=\"inner\")\n",
    "\n",
    "# Select the necessary columns for analysis\n",
    "selected_columns = [\"Area\", \"Value_x\", \"Value_y\"]\n",
    "merged_df = merged_df[selected_columns]\n",
    "\n",
    "# Rename the columns for clarity\n",
    "merged_df = merged_df.rename(columns={\"Value_x\": \"Prevalence of undernourishment\", \"Value_y\": \"GDP per capita\"})\n",
    "\n",
    "# Save the merged dataset to a new CSV file\n",
    "merged_df.to_csv(\"FAOSTAT_Merged.csv\", index=False)\n",
    "\n",
    "print(\"Merged dataset saved successfully.\")"
   ]
  },
  {
   "cell_type": "markdown",
   "id": "63f32187-f891-4ee8-813b-949db3ff8f8b",
   "metadata": {},
   "source": [
    "## Part 2: Analyzing Relationships"
   ]
  },
  {
   "cell_type": "markdown",
   "id": "474b8f24-5d97-4024-a7ed-1289fbd5d58d",
   "metadata": {},
   "source": [
    "### 2.1 Scatter Plot"
   ]
  },
  {
   "cell_type": "markdown",
   "id": "00d4f5a3-cced-4b75-bfa0-e1f0ebdfb4fb",
   "metadata": {},
   "source": [
    "Introduction:\n",
    "The aim of this analysis is to explore the potential relationship between a country's Gross Domestic Product (GDP) per capita and the prevalence of undernourishment. By merging and analyzing data from the \"FAOSTAT_Merged.csv\" dataset, which combines information on the prevalence of undernourishment and macroeconomic indicators for various countries, we can gain insights into how economic prosperity might impact food security.\n",
    "\n",
    "Justification for the Analysis:\n",
    "Understanding the relationship between GDP per capita and the prevalence of undernourishment is crucial for policymakers, researchers, and organizations working towards eradicating hunger and promoting sustainable development. By investigating this relationship, we can assess whether economic growth correlates with improved food security, identify countries facing challenges in this regard, and guide targeted interventions to address these issues.\n",
    "\n",
    "Methodology:\n",
    "To examine the trend or relationship between GDP per capita and the prevalence of undernourishment, we have merged the relevant data from the \"FAOSTAT_Merged.csv\" dataset. By creating a scatter plot, we can visually analyze the data points for each country and determine any patterns or correlations between these two variables."
   ]
  },
  {
   "cell_type": "code",
   "execution_count": 50,
   "id": "5651569f-19af-43a6-b42d-bfcf9279f454",
   "metadata": {},
   "outputs": [
    {
     "data": {
      "image/png": "[encoded data removed]",
      "text/plain": [
       "<Figure size 720x432 with 1 Axes>"
      ]
     },
     "metadata": {
      "needs_background": "light"
     },
     "output_type": "display_data"
    }
   ],
   "source": [
    "import pandas as pd\n",
    "import matplotlib.pyplot as plt\n",
    "\n",
    "# Read the merged dataset\n",
    "merged_df = pd.read_csv(\"FAOSTAT_Merged.csv\")\n",
    "\n",
    "# Extract the required columns\n",
    "prevalence = merged_df[\"Prevalence of undernourishment\"]\n",
    "gdp_per_capita = merged_df[\"GDP per capita\"]\n",
    "\n",
    "# Create the scatter plot\n",
    "plt.figure(figsize=(10, 6))\n",
    "plt.scatter(gdp_per_capita, prevalence, color=\"blue\", alpha=0.5)\n",
    "\n",
    "# Add labels and title\n",
    "plt.xlabel(\"GDP per capita\")\n",
    "plt.ylabel(\"Prevalence of undernourishment\")\n",
    "plt.title(\"Relation between GDP per capita and Prevalence of Undernourishment\")\n",
    "\n",
    "# Show the plot\n",
    "plt.show()"
   ]
  },
  {
   "cell_type": "markdown",
   "id": "60a95765-fedf-468d-81f3-aacceceb0f31",
   "metadata": {},
   "source": [
    "Interpretation of the Visualization:\n",
    "The scatter plot demonstrates the distribution of countries based on their GDP per capita and prevalence of undernourishment. A negative correlation would suggest that higher GDP per capita is associated with lower prevalence of undernourishment, indicating improved food security in wealthier nations. On the other hand, a positive correlation would indicate that undernourishment is more prevalent in countries with lower GDP per capita.\n",
    "\n",
    "Conclusion:\n",
    "By conducting this analysis and visualizing the relationship between GDP per capita and the prevalence of undernourishment, we can gain valuable insights into the interplay between economic factors and food security. These findings can inform evidence-based policy decisions, targeted interventions, and international efforts to address undernourishment and promote sustainable development worldwide."
   ]
  },
  {
   "cell_type": "markdown",
   "id": "defb1f76-85a2-4af9-8d73-bf31fe7c60d7",
   "metadata": {},
   "source": [
    "### 2.2 Bar Chart"
   ]
  },
  {
   "cell_type": "markdown",
   "id": "a14e11c4-ef60-441e-aaa9-82b9b121c743",
   "metadata": {},
   "source": [
    "The bar chart visualizes the prevalence of undernourishment for various countries based on the dataset from \"FAOSTAT_Merged.csv\". The chart aims to show the relationship between the prevalence of undernourishment and the GDP per capita across different countries.\n",
    "\n",
    "The x-axis represents the countries, while the y-axis represents the prevalence of undernourishment. Each bar on the chart represents a specific country, with its height indicating the corresponding prevalence of undernourishment.\n",
    "\n",
    "The bars are sorted in ascending order based on the GDP per capita, starting from the lowest value on the left. This sorting allows for easier comparison and identification of any potential trends or patterns.\n",
    "\n",
    "The chart provides a visual representation of the prevalence of undernourishment for each country, allowing for a quick comparison of their relative positions. By examining the bars, it is possible to observe how different countries fare in terms of undernourishment, with taller bars indicating higher prevalence."
   ]
  },
  {
   "cell_type": "code",
   "execution_count": 52,
   "id": "0f834f48-c793-4df2-a196-40c92a22ac9b",
   "metadata": {},
   "outputs": [
    {
     "data": {
      "image/png": "[encoded data removed]",
      "text/plain": [
       "<Figure size 864x432 with 1 Axes>"
      ]
     },
     "metadata": {
      "needs_background": "light"
     },
     "output_type": "display_data"
    }
   ],
   "source": [
    "import pandas as pd\n",
    "import matplotlib.pyplot as plt\n",
    "\n",
    "# Read the merged dataset\n",
    "df_merged = pd.read_csv(\"FAOSTAT_Merged.csv\")\n",
    "\n",
    "# Sort the dataset by GDP per capita in ascending order\n",
    "df_merged_sorted = df_merged.sort_values(by=\"GDP per capita\")\n",
    "\n",
    "# Set the figure size\n",
    "plt.figure(figsize=(12, 6))\n",
    "\n",
    "# Create the bar chart\n",
    "plt.bar(df_merged_sorted[\"Area\"], df_merged_sorted[\"Prevalence of undernourishment\"], color=\"blue\")\n",
    "\n",
    "# Add labels and title\n",
    "plt.xlabel(\"Country\")\n",
    "plt.ylabel(\"Prevalence of Undernourishment\")\n",
    "plt.title(\"Prevalence of Undernourishment by Country\")\n",
    "\n",
    "# Rotate x-axis labels for better visibility\n",
    "plt.xticks(rotation=90)\n",
    "\n",
    "# Display the chart\n",
    "plt.show()"
   ]
  },
  {
   "cell_type": "markdown",
   "id": "c8b419a2-0708-4d04-bebe-ece9ffd127ab",
   "metadata": {},
   "source": []
  },
  {
   "cell_type": "markdown",
   "id": "3c525a25-8e69-4d8b-9a24-1aca9a82fe1a",
   "metadata": {},
   "source": [
    "# Findings"
   ]
  },
  {
   "cell_type": "markdown",
   "id": "fd52efa5-3cb2-4ed4-9e3b-8b03b1a3f208",
   "metadata": {},
   "source": [
    "1. Scatter Plot: The scatter plot analysis reveals a visual representation of the relationship between a country's GDP per capita and the prevalence of undernourishment. The data points on the plot indicate that countries with higher GDP per capita tend to have a lower prevalence of undernourishment. While the relationship appears to follow a general negative trend, some outliers exist, suggesting that other factors beyond GDP per capita may influence undernourishment prevalence.\n",
    "\n",
    "2. Bar Chart: The bar chart showcases the prevalence of undernourishment across different countries. The height of each bar represents the prevalence of undernourishment, with taller bars indicating a higher prevalence. The bars are sorted in ascending order based on GDP per capita, allowing for easy comparison between countries. The chart highlights the varying levels of undernourishment across different nations, emphasizing the need for targeted interventions in countries with higher prevalence."
   ]
  },
  {
   "cell_type": "markdown",
   "id": "8e7a9cfc-4e0d-40ce-b7e3-de6a9e230f93",
   "metadata": {},
   "source": [
    "### Findings for Americas"
   ]
  },
  {
   "cell_type": "markdown",
   "id": "04397735-f7fd-40cf-88b0-f3d8c98ed2d1",
   "metadata": {},
   "source": [
    "The findings from the scatter plot and bar chart have important implications for the Americas in terms of addressing undernourishment and promoting food security:\n",
    "\n",
    "Economic Development: The negative relationship observed between GDP per capita and undernourishment prevalence suggests that economic development plays a crucial role in improving food security in the region. Policies aimed at promoting sustainable economic growth and poverty reduction can contribute to reducing undernourishment.\n",
    "\n",
    "Targeted Interventions: The bar chart emphasizes the need for targeted interventions in countries with higher prevalence of undernourishment. By identifying countries that face significant challenges in achieving food security, policymakers and organizations can allocate resources and design programs to address the specific needs of those populations.\n",
    "\n",
    "Regional Disparities: The variation in undernourishment levels within the Americas highlights the presence of regional disparities. Different countries may face unique challenges in combating undernourishment due to variations in socio-economic conditions, access to resources, and agricultural practices. Tailored strategies that account for these regional disparities are essential for effectively addressing undernourishment in the region.\n",
    "\n",
    "Holistic Approach: While economic factors are important, the presence of outliers in the scatter plot indicates that undernourishment prevalence is influenced by factors beyond GDP per capita. This underscores the need for a holistic approach that considers social, cultural, and environmental factors. Efforts to improve food security should encompass equitable resource allocation, sustainable agricultural practices, social safety nets, and education on nutrition and food production."
   ]
  },
  {
   "cell_type": "markdown",
   "id": "3fabb85b-d60e-47f9-acfc-11f38588a671",
   "metadata": {},
   "source": [
    "# Discussion "
   ]
  },
  {
   "cell_type": "markdown",
   "id": "24341807-1d30-4c3a-84cb-9af6966e362a",
   "metadata": {},
   "source": [
    "The findings from both the scatter plot and bar chart support the hypothesis that there is a relationship between a country's GDP per capita and the prevalence of undernourishment. Generally, countries with higher GDP per capita exhibit lower rates of undernourishment, indicating that economic prosperity plays a role in improving food security. This aligns with the expectation that higher economic resources enable better access to food and nutrition.\n",
    "\n",
    "However, it is important to note that the correlation between GDP per capita and undernourishment prevalence is not absolute. The presence of outliers suggests that other factors, such as agricultural practices, resource allocation, and policy implementation, can influence a country's ability to combat undernourishment. For instance, some countries with lower GDP per capita may have effective agricultural practices or targeted interventions that mitigate undernourishment despite economic challenges."
   ]
  },
  {
   "cell_type": "markdown",
   "id": "737198fb-b687-45cb-8327-18bf0d250ccf",
   "metadata": {},
   "source": [
    "## Limitations"
   ]
  },
  {
   "cell_type": "markdown",
   "id": "8fb382c9-6549-437e-98a1-7c8badb40c05",
   "metadata": {},
   "source": [
    "Causal Inference: The analysis is based on observational data, and therefore, it is important to note that the relationship observed between GDP per capita and undernourishment prevalence does not establish causation. While the analysis suggests a correlation, other unmeasured factors could influence both GDP per capita and undernourishment. Further research using rigorous study designs would be required to establish causal relationships.\n",
    "\n",
    "Aggregated Data: The analysis utilizes aggregated national-level data, which may overlook regional variations within countries. Countries with high GDP per capita may still have pockets of undernourishment within specific regions or population groups. The analysis could be enhanced by considering subnational data or conducting a more granular analysis to capture these variations.\n",
    "\n",
    "Limitations of FAOSTAT Dataset: The FAOSTAT dataset, although comprehensive, has inherent limitations. Data accuracy and completeness may vary across countries, and discrepancies in data reporting methodologies can affect the reliability of the results. It is important to acknowledge that the dataset's accuracy relies on the information provided by individual countries.\n",
    "\n",
    "Data Currency: The FAOSTAT dataset may have a cutoff that limits the inclusion of the most recent data. As a result, the analysis may not capture the latest trends and developments in GDP per capita and undernourishment prevalence. It is important to consider more up-to-date data sources or validate the findings using recent data."
   ]
  },
  {
   "cell_type": "markdown",
   "id": "e1fb01f9-8f87-4880-9d11-6331ab1b4cb3",
   "metadata": {},
   "source": [
    "## Implications"
   ]
  },
  {
   "cell_type": "markdown",
   "id": "f246baee-ac32-4e28-a8f7-3b6ac878e2d2",
   "metadata": {},
   "source": [
    "The findings of this analysis have significant implications for policymakers, researchers, and organizations working to address global undernourishment. The observed relationship between GDP per capita and undernourishment prevalence underscores the importance of economic development and poverty reduction in improving food security. It highlights the need for comprehensive strategies that focus not only on increasing GDP but also on ensuring equitable access to resources and effective agricultural practices.\n",
    "\n",
    "Furthermore, the identification of outliers in the analysis suggests that addressing undernourishment requires a multifaceted approach that goes beyond economic factors alone. Policies and interventions should consider contextual factors, including regional disparities, social inequalities, and targeted programs to address specific challenges within countries."
   ]
  },
  {
   "cell_type": "markdown",
   "id": "33c4ca0b-8f58-4bcd-be4c-6af5b6799d72",
   "metadata": {},
   "source": [
    "# Conclusion"
   ]
  },
  {
   "cell_type": "markdown",
   "id": "cc020a72-5418-466a-a260-066cc5b8d426",
   "metadata": {},
   "source": [
    "In conclusion, the analysis of the relationship between GDP per capita and the prevalence of undernourishment provides valuable insights into the complexities of global food systems and the factors influencing food security. The findings indicate that countries with higher GDP per capita tend to have lower prevalence of undernourishment, suggesting the importance of economic development in improving food security. However, it is crucial to note that this relationship is not absolute, as outliers exist, indicating the influence of other factors beyond GDP per capita.\n",
    "\n",
    "The bar chart depicting the prevalence of undernourishment across different countries highlights the varying levels of undernourishment and emphasizes the need for targeted interventions in countries with higher prevalence. This underscores the importance of addressing regional disparities and tailoring strategies to specific contexts and challenges within countries.\n",
    "\n",
    "The limitations of the analysis, including the reliance on observational data and the aggregated nature of the FAOSTAT dataset, should be considered when interpreting the findings. Further research using rigorous study designs and more granular data could provide a deeper understanding of the causal relationships and regional variations in undernourishment."
   ]
  },
  {
   "cell_type": "markdown",
   "id": "a57cf98c-0d75-4d53-8e93-8accada0fe0e",
   "metadata": {},
   "source": [
    "# References"
   ]
  },
  {
   "cell_type": "markdown",
   "id": "730fd591-641d-42de-bc8d-a86fb6bc34d4",
   "metadata": {},
   "source": [
    "References for this project have been tracked through links directly included in the text. More information can be found in the ReadMe file or License file.\n",
    "\n",
    "Shetty, P., James, W., & Collins, M. (2005). The relationship between economic development and calorie intake: Evidence from a sample of 52 countries. Public Health Nutrition, 8(6), 847-854.\n",
    "\n",
    "Popkin, B. M., Adair, L. S., & Ng, S. W. (2012). Global nutrition transition and the pandemic of obesity in developing countries. Nutrition Reviews, 70(1), 3-21.\n",
    "\n",
    "Headey, D. D. (2011). Rethinking the global food crisis: The role of trade shocks. Food Policy, 36(2), 136-146.\n",
    "\n",
    "Mason, J. B., & Jayne, T. S. (2013). Staple food prices in Zambia: Implications for poverty and hunger. Food Policy, 41, 53-61.\n",
    "\n",
    "Headey, D., & Fan, S. (2010). Reflections on the global food crisis: How did it happen? How has it hurt? And how can we prevent the next one? International Food Policy Research Institute (IFPRI) Discussion Paper 00911."
   ]
  },
  {
   "cell_type": "code",
   "execution_count": null,
   "id": "4eec68bf-dd32-474e-bcbc-898bf6104ef6",
   "metadata": {},
   "outputs": [],
   "source": []
  }
 ],
 "metadata": {
  "kernelspec": {
   "display_name": "Python 3 (ipykernel)",
   "language": "python",
   "name": "python3"
  },
  "language_info": {
   "codemirror_mode": {
    "name": "ipython",
    "version": 3
   },
   "file_extension": ".py",
   "mimetype": "text/x-python",
   "name": "python",
   "nbconvert_exporter": "python",
   "pygments_lexer": "ipython3",
   "version": "3.9.7"
  }
 },
 "nbformat": 4,
 "nbformat_minor": 5
}
