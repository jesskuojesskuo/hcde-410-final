{
 "cells": [
  {
   "cell_type": "markdown",
   "id": "b6df013d-eb91-4a08-9809-c8076ea39186",
   "metadata": {},
   "source": [
    "# A4: Final Project Preliminary Proposal"
   ]
  },
  {
   "cell_type": "markdown",
   "id": "0cf8cab9-bbdf-4dea-8d59-b5e556dcf016",
   "metadata": {},
   "source": [
    "## Motivation"
   ]
  },
  {
   "cell_type": "markdown",
   "id": "9e7ba702-3415-4304-868e-bfd6e792493a",
   "metadata": {},
   "source": [
    "I am planning to conduct an analysis using the FAOSTAT dataset to explore the factors that contribute to the differences in caloric intake between countries. This analysis is motivated by my interest in understanding the complex relationships between food production, consumption, and nutrition, and how they contribute to global health and well-being.\n",
    "\n",
    "From a scientific perspective, this project has the potential to shed light on the underlying factors that drive differences in caloric intake between countries, and help us to better understand the complexities of global food systems. From a practical perspective, this analysis could inform policy decisions aimed at improving global nutrition and reducing food insecurity.\n",
    "\n",
    "Moreover, from a human-centered perspective, this project has significant implications for global health and well-being. By understanding the factors that contribute to differences in caloric intake, we can identify strategies for promoting healthier and more sustainable food systems, and help to improve health outcomes for people around the world.\n",
    "\n",
    "Ultimately, I hope to learn more about the complex relationships between food production, consumption, and nutrition, and how they vary across different countries and regions. By exploring these relationships, I hope to contribute to a deeper understanding of global food systems, and identify potential strategies for promoting healthier and more sustainable diets."
   ]
  },
  {
   "cell_type": "markdown",
   "id": "c9a9a3c5-b333-4775-8d01-578da2227df9",
   "metadata": {},
   "source": [
    "## Data"
   ]
  },
  {
   "cell_type": "markdown",
   "id": "fa32df27-03b4-4db8-8a50-4680c79140ab",
   "metadata": {},
   "source": [
    "I have decided to use the FAOSTAT dataset to investigate the factors that contribute to the differences in caloric intake between countries. FAOSTAT is a publicly available database that contains a wide range of information on food and agriculture from countries around the world. I believe this dataset is an excellent choice for my research because it contains data on food availability, agricultural productivity, and nutrition, which are all key factors that can contribute to differences in caloric intake between countries.\n",
    "\n",
    "The dataset is represented in various forms, including tables, graphs, and charts. It contains information on food production and consumption, as well as agricultural trade, land use, and population demographics. There are also data on the prevalence of malnutrition and obesity, which can provide insights into the nutritional status of different countries.\n",
    "\n",
    "The FAOSTAT dataset is made available under an open license, which allows for its use and redistribution under certain conditions. Specifically, the data is licensed under the Creative Commons Attribution-NonCommercial-ShareAlike 3.0 IGO license, which permits the use and sharing of the data for non-commercial purposes as long as attribution is given to the original source, and any modifications or derivatives of the data are released under the same license.\n",
    "\n",
    "This means that as a user of the FAOSTAT data, I am free to download, use, and modify the data for personal or academic purposes, as well as share my findings with others on platforms such as GitHub, as long as it is not for commercial purposes. I must also provide attribution to the original source of the data and release any modified or derived data under the same license.\n",
    "\n",
    "More information can be found in the link here: https://www.fao.org/contact-us/terms/en/.\n",
    "\n",
    "Using this dataset, I hope to gain a deeper understanding of the factors that contribute to differences in caloric intake between countries. By analyzing the data, I aim to identify patterns and trends in food availability, economic development, cultural and social norms, demographics, and health and nutrition policies that may help to explain these differences.\n",
    "\n",
    "One possible ethical consideration when using this dataset is the potential for biases or inaccuracies in the data. It is important to carefully consider the source of the data and to acknowledge any limitations or uncertainties in the analysis. Additionally, it is important to ensure that the research is conducted in an ethical and responsible manner, respecting the privacy and confidentiality of any individuals or communities represented in the data."
   ]
  },
  {
   "cell_type": "markdown",
   "id": "9a78dd04-f15a-45ac-9265-dc540935645e",
   "metadata": {},
   "source": [
    "## Unknowns"
   ]
  },
  {
   "cell_type": "markdown",
   "id": "4710d489-f237-4665-bfb3-3258390cd57f",
   "metadata": {},
   "source": [
    "With only two weeks to complete this project, I understand that time management will be crucial, and I will need to be diligent and focused throughout the process.\n",
    "\n",
    "While the FAOSTAT data offers a wealth of information on food production, consumption, and nutrition, there may be some unknowns and dependencies that could impact my ability to complete this project by the end of the quarter. For example, I may encounter unexpected technical issues with the data set, or I may struggle to find relevant literature or resources to support my analysis. Additionally, the complexity of the topic and the vast amount of data available may pose a challenge in terms of analyzing and interpreting the findings within the limited time frame.\n",
    "\n",
    "To mitigate these potential challenges, I plan to approach this project with a clear and organized plan of action, breaking down the analysis into manageable steps and setting achievable goals for each day. I also plan to seek feedback and guidance from my instructor and peers throughout the process, and to leverage online resources and tools to enhance my analysis and visualization of the data. Ultimately, I am eager to explore the factors that contribute to differences in caloric intake between countries, and I am confident that with focus and dedication, I can complete this project successfully within the allotted time."
   ]
  },
  {
   "cell_type": "markdown",
   "id": "aaab7dc0-b3c7-4d64-a96a-260c9efaafce",
   "metadata": {},
   "source": [
    "### Feedback on Limitations"
   ]
  },
  {
   "cell_type": "markdown",
   "id": "ee17459b-788f-4b02-b7eb-30a0beb9614c",
   "metadata": {},
   "source": [
    "After speaking with peers in my class, I discovered some limitations.\n",
    "\n",
    "One potential limitation is the quality and completeness of the data available in the FAOSTAT dataset. For example, certain countries may not report their food intake data accurately or comprehensively, which could skew my results.\n",
    "\n",
    "Another limitation is the complexity and interrelatedness of the factors I am examining. It may be difficult to disentangle the effects of each individual factor on caloric intake, as they are likely to interact with each other in complex ways.\n",
    "\n",
    "To address these limitations, I could consider narrowing the scope of my project to focus on a smaller subset of countries or factors that are better represented in the dataset. Originally, I wanted to look at all the countries around the world. However, I have no narrowed down my topic to mostly include countries in the Americas and caloric intake."
   ]
  },
  {
   "cell_type": "markdown",
   "id": "af4bea2b-8a57-4b6b-8619-fa7e2cf97ede",
   "metadata": {},
   "source": [
    "## Overview and Research Questions:"
   ]
  },
  {
   "cell_type": "markdown",
   "id": "b09e5e8c-1451-4ca9-a592-5f97b3f6c2ed",
   "metadata": {},
   "source": [
    "The goal of this project is to analyze the FAOSTAT dataset to explore the factors that contribute to the differences in caloric intake between countries. The analysis is motivated by the desire to understand the complex relationships between food production, consumption, and nutrition, and how they impact global health and well-being. The project aims to shed light on the underlying factors that drive differences in caloric intake between countries and inform policy decisions aimed at improving global nutrition and reducing food insecurity. Specifically, this project will focus on countries in the Americas, from North America to South America. "
   ]
  },
  {
   "cell_type": "markdown",
   "id": "a14bac2d-cc43-46b2-8d3b-9e07238fb8b9",
   "metadata": {},
   "source": [
    "### Research Questions/Hypotheses:"
   ]
  },
  {
   "cell_type": "markdown",
   "id": "2e7e6d0c-f55f-4d1b-a1e2-c9ff79da7fd4",
   "metadata": {},
   "source": [
    "1. What are the key factors that contribute to differences in caloric intake between countries, and how do they vary across different regions and income groups?\n",
    "2. Is there a relationship between food availability, agricultural productivity, and nutrition, and differences in caloric intake between countries?\n",
    "3. Are there differences in caloric intake between urban and rural populations, and if so, what factors contribute to these differences?\n",
    "4. Are there differences in caloric intake between genders, and if so, what factors contribute to these differences?\n",
    "5. Is there a relationship between the prevalence of malnutrition and obesity and differences in caloric intake between countries?\n",
    "6. Does the implementation of health and nutrition policies impact caloric intake and nutritional status in different countries?"
   ]
  },
  {
   "cell_type": "markdown",
   "id": "38c21381-ff61-4a05-9790-8ce7923cd6e7",
   "metadata": {},
   "source": [
    "### Hypothesis"
   ]
  },
  {
   "cell_type": "markdown",
   "id": "3e3317a4-90e1-4824-8b58-c05ee25925b3",
   "metadata": {},
   "source": [
    "1. Countries with higher levels of economic development tend to have higher caloric intake levels.\n",
    "2. Cultural and social norms have a significant impact on caloric intake levels in different regions.\n",
    "3. Food availability is a key factor that influences caloric intake levels in different countries.\n",
    "4. Policies and interventions aimed at promoting healthier and more sustainable diets can have a positive impact on caloric intake levels in different countries."
   ]
  },
  {
   "cell_type": "markdown",
   "id": "09b72db1-eb67-42b6-9419-d437c29b4c06",
   "metadata": {},
   "source": [
    "## Background and/or Related Work:\n"
   ]
  },
  {
   "cell_type": "markdown",
   "id": "3927fc66-d5c5-400d-b6fe-2c009a34321f",
   "metadata": {},
   "source": [
    "The phenomenon that I am investigating is the differences in caloric intake between countries. I plan to use the FAOSTAT dataset, which is a publicly available database that contains information on food and agriculture from countries around the world, to identify patterns and trends in food availability, economic development, cultural and social norms, demographics, and health and nutrition policies that may help explain these differences.\n",
    "\n",
    "Previous research has been performed on this phenomenon, including studies that have examined the relationship between food availability, economic development, and caloric intake. For example, a study by Shetty et al. (2005) found that the level of economic development was positively associated with caloric intake. Another study by Popkin et al. (2012) found that the availability of ultra-processed foods was negatively associated with the intake of healthier foods and nutrients.\n",
    "\n",
    "The background information of the project suggests that this analysis has the potential to shed light on the underlying factors that drive differences in caloric intake between countries, and help us to better understand the complexities of global food systems. This analysis could also inform policy decisions aimed at improving global nutrition and reducing food insecurity. The FAOSTAT dataset is an excellent choice for this research because it contains data on food availability, agricultural productivity, and nutrition.\n",
    "\n",
    "One potential ethical consideration when using this dataset is the potential for biases or inaccuracies in the data. It is important to carefully consider the source of the data and to acknowledge any limitations or uncertainties in the analysis. Additionally, it is important to ensure that the research is conducted in an ethical and responsible manner, respecting the privacy and confidentiality of any individuals or communities represented in the data."
   ]
  },
  {
   "cell_type": "markdown",
   "id": "447eba05-2b43-4017-b27a-9cc7f2bfaa92",
   "metadata": {},
   "source": [
    "## Methodology"
   ]
  },
  {
   "cell_type": "markdown",
   "id": "f8d80b65-4022-471c-972d-475cca546fd7",
   "metadata": {},
   "source": [
    "To investigate the factors that contribute to differences in caloric intake between countries using the FAOSTAT dataset, I plan to use the following methodology:\n",
    "\n",
    "Data Collection: I will download and pre-process the relevant data from the FAOSTAT database, focusing on factors such as food production, consumption, trade, land use, population demographics, malnutrition, and obesity. I will ensure that the data is in a usable format and that any missing values or outliers are addressed appropriately.\n",
    "\n",
    "Data Analysis: I will use a combination of exploratory data analysis and statistical modeling techniques to identify patterns and trends in the data and to investigate the relationships between different variables. Specifically, I plan to use regression analysis to determine the extent to which different factors contribute to differences in caloric intake between countries. The specific type of regression analysis will depend on the nature of the data and the research questions being addressed.\n",
    "\n",
    "Data Visualization: I will use appropriate data visualization techniques to present the findings of my analysis in a clear and accessible way. This may include bar charts, dot plots, heatmaps, time series graphs, or other types of visualizations, depending on the nature of the data and the research questions being addressed.\n",
    "\n",
    "Interpretation: I will interpret the results of my analysis, identifying any significant relationships between variables and discussing the implications of these findings for global food systems and public health. I will also acknowledge any limitations or uncertainties in the data and the analysis, and discuss potential areas for future research."
   ]
  },
  {
   "cell_type": "markdown",
   "id": "822256f6-de83-40da-a23e-24666fdefdd3",
   "metadata": {},
   "source": [
    "### Analytical Methods:"
   ]
  },
  {
   "cell_type": "markdown",
   "id": "c4d801c4-1ab4-411b-9f84-4489f2498d47",
   "metadata": {},
   "source": [
    "To answer my research questions, I plan to use regression analysis, specifically multiple linear regression. This will allow me to investigate the relationships between caloric intake and a range of explanatory variables, such as food availability, economic development, cultural and social norms, demographics, and health and nutrition policies. I will use R or Python programming languages to perform the regression analysis."
   ]
  },
  {
   "cell_type": "markdown",
   "id": "5eaa4df0-b0b8-4fd7-bf1f-19cd7e82b41c",
   "metadata": {},
   "source": [
    "### Method of Presentation:"
   ]
  },
  {
   "cell_type": "markdown",
   "id": "04de830b-fbdc-4830-bc6a-d0bff2dad578",
   "metadata": {},
   "source": [
    "\n",
    "I plan to present my findings using a combination of tables and data visualizations. I will use tables to summarize the results of the regression analysis, including the coefficients and statistical significance of the explanatory variables. I will also use data visualizations to illustrate key patterns and trends in the data, such as bar charts or heatmaps. I will ensure that the presentation of my findings is clear, concise, and accessible to a non-technical audience."
   ]
  },
  {
   "cell_type": "markdown",
   "id": "781afd69-3542-43c7-9c40-c3233e28a3b1",
   "metadata": {},
   "source": [
    "### Justification\n",
    "The methods I have chosen to analyze and present my data are appropriate and useful because they allow me to investigate the relationships between multiple variables and to identify the factors that contribute to differences in caloric intake between countries. Regression analysis is a commonly used statistical technique that allows for the identification of significant relationships between variables, and the use of multiple linear regression allows for the investigation of multiple explanatory variables simultaneously. The use of tables and data visualizations will enable me to present my findings in a clear and accessible way, allowing for easy interpretation by a non-technical audience. Overall, these methods will allow me to answer my research questions and contribute to a deeper understanding of global food systems and public health."
   ]
  },
  {
   "cell_type": "code",
   "execution_count": null,
   "id": "f74f2891-7297-4576-8400-e27cd5ccbef9",
   "metadata": {},
   "outputs": [],
   "source": []
  }
 ],
 "metadata": {
  "kernelspec": {
   "display_name": "Python 3 (ipykernel)",
   "language": "python",
   "name": "python3"
  },
  "language_info": {
   "codemirror_mode": {
    "name": "ipython",
    "version": 3
   },
   "file_extension": ".py",
   "mimetype": "text/x-python",
   "name": "python",
   "nbconvert_exporter": "python",
   "pygments_lexer": "ipython3",
   "version": "3.9.7"
  }
 },
 "nbformat": 4,
 "nbformat_minor": 5
}
