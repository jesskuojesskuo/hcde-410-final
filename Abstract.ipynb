{
 "cells": [
  {
   "cell_type": "markdown",
   "id": "529166bf-af02-4c4e-8dc2-585a5d5c10bf",
   "metadata": {},
   "source": [
    "# Abstract"
   ]
  },
  {
   "cell_type": "markdown",
   "id": "5594b14d-9214-4d67-a170-ca6f151b22c3",
   "metadata": {},
   "source": [
    "This research paper investigates the relationship between a country's Gross Domestic Product (GDP) per capita and the prevalence of undernourishment. The study utilizes the FAOSTAT dataset, which provides comprehensive data on GDP per capita and undernourishment prevalence for multiple countries. The analysis includes a scatter plot and a bar chart to visually depict the relationship and variations in undernourishment levels across countries. The findings reveal a negative correlation between GDP per capita and undernourishment prevalence, indicating that higher economic development is associated with lower rates of undernourishment. However, outliers suggest the influence of other factors beyond GDP per capita. The research emphasizes the need for targeted interventions, considering regional disparities, and adopting a holistic approach that accounts for socio-economic, cultural, and environmental factors. The limitations of the analysis include the inability to establish causation due to the observational nature of the data and the use of aggregated national-level data. Despite these limitations, the findings have significant implications for policymakers and organizations working towards eradicating undernourishment, emphasizing the importance of economic development and comprehensive strategies in achieving food security."
   ]
  },
  {
   "cell_type": "code",
   "execution_count": null,
   "id": "35db5da6-71fd-4c21-b2d2-896944d2f70a",
   "metadata": {},
   "outputs": [],
   "source": []
  }
 ],
 "metadata": {
  "kernelspec": {
   "display_name": "Python 3 (ipykernel)",
   "language": "python",
   "name": "python3"
  },
  "language_info": {
   "codemirror_mode": {
    "name": "ipython",
    "version": 3
   },
   "file_extension": ".py",
   "mimetype": "text/x-python",
   "name": "python",
   "nbconvert_exporter": "python",
   "pygments_lexer": "ipython3",
   "version": "3.9.7"
  }
 },
 "nbformat": 4,
 "nbformat_minor": 5
}
